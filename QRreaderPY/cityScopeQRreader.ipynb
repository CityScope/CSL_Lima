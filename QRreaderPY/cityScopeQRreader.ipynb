{
 "cells": [
  {
   "cell_type": "code",
   "execution_count": 1,
   "metadata": {},
   "outputs": [],
   "source": [
    "from __future__ import print_function\n",
    "from matplotlib import pyplot as plt\n",
    "import pyzbar.pyzbar as pyzbar\n",
    "import math\n",
    "import numpy as np\n",
    "import cv2\n",
    "import json\n",
    "import socket\n",
    "from datetime import timedelta\n",
    "from datetime import datetime"
   ]
  },
  {
   "cell_type": "code",
   "execution_count": 2,
   "metadata": {
    "collapsed": true
   },
   "outputs": [],
   "source": [
    "#export JSON\n",
    "#import warpperspective points / window size\n",
    "#send everything to a server\n",
    "#cells number interactivity"
   ]
  },
  {
   "cell_type": "code",
   "execution_count": 10,
   "metadata": {
    "collapsed": true
   },
   "outputs": [],
   "source": [
    "moving = False;\n",
    "selected = False;\n",
    "poiSelected = None;\n",
    "radio = 7;\n",
    "cellid = 0\n",
    "sideLenght = 300\n",
    "nblocks = 2\n",
    "blockSize = int(sideLenght/nblocks)\n",
    "pts1 = np.float32([[304,128],[932,52],[304,628],[932,652]])\n",
    "pts2 = np.float32([[0,0],[sideLenght,0],[0,sideLenght],[sideLenght,sideLenght]])\n",
    "send_interval = timedelta(milliseconds=30)\n",
    "last_sent = datetime.now()"
   ]
  },
  {
   "cell_type": "code",
   "execution_count": 4,
   "metadata": {
    "collapsed": true
   },
   "outputs": [],
   "source": [
    "class QR(object):\n",
    "    \n",
    "#     def __init__(self,i):\n",
    "#         self.i = i\n",
    "        \n",
    "    def decode(self,im) :\n",
    "        # Find barcodes and QR codes\n",
    "        decodedObjects = pyzbar.decode(im)\n",
    "        return decodedObjects        \n",
    "\n",
    "    def draw(self,im, decodedObjects):\n",
    "\n",
    "        # Loop over all decoded objects\n",
    "        for decodedObject in decodedObjects: \n",
    "            points = decodedObject.location\n",
    "\n",
    "            # If the points do not form a quad, find convex hull\n",
    "            if len(points) > 4 : \n",
    "                hull = cv2.convexHull(np.array([point for point in points], dtype=np.float32))\n",
    "                hull = list(map(tuple, np.squeeze(hull)))\n",
    "            else : \n",
    "                hull = points;\n",
    "\n",
    "            # Number of points in the convex hull\n",
    "            n = len(hull)\n",
    "\n",
    "            # Draw the convext hull\n",
    "            for j in range(0,n):\n",
    "                cv2.line(im, hull[j], hull[ (j+1) % n], (255,0,0), 3)\n",
    "  "
   ]
  },
  {
   "cell_type": "code",
   "execution_count": 5,
   "metadata": {
    "collapsed": true
   },
   "outputs": [],
   "source": [
    "class warpPerspective(object):\n",
    "    \n",
    "#     def __init__(self,points):\n",
    "#         self.points = points\n",
    "\n",
    "#     @staticMethod / without self\n",
    "    def warpPerspective(self,pts1,pts2,img,sideLenght):\n",
    "        M = cv2.getPerspectiveTransform(pts1,pts2)\n",
    "        img2 = cv2.warpPerspective(img,M,(sideLenght,sideLenght))\n",
    "        return img2     \n",
    "    \n",
    "    def drawPoints(self,pts1,img,radio):\n",
    "        for i in range(len(pts1)):\n",
    "            cv2.circle(img,(pts1[i][0],pts1[i][1]),radio,(0,255,0))   "
   ]
  },
  {
   "cell_type": "code",
   "execution_count": 6,
   "metadata": {
    "collapsed": true
   },
   "outputs": [],
   "source": [
    "class cell:\n",
    "    \n",
    "    def __init__(self, cellid, start, size):\n",
    "        self.id = cellid\n",
    "        self.start = start\n",
    "        self.size = size\n",
    "        self.pattern = \"\"\n",
    "    \n",
    "    def check(self, loc):\n",
    "        x = int((loc[0][0]+loc[1][0]+loc[2][0]+loc[3][0])/4)\n",
    "        y = int((loc[0][1]+loc[1][1]+loc[2][1]+loc[3][1])/4)\n",
    "        return ((x > self.start[0]) and (x < (self.start[0]+self.size)) and (y > self.start[1]) and (y < (self.start[1]+self.size)))\n",
    "    \n",
    "    def set_pattern(self, data):\n",
    "        self.pattern = data\n",
    "    "
   ]
  },
  {
   "cell_type": "code",
   "execution_count": 13,
   "metadata": {
    "collapsed": true
   },
   "outputs": [],
   "source": [
    "class mesh:\n",
    "\n",
    "    def __init__(self,cellid,ncells,size):\n",
    "        self.ncells = ncells\n",
    "        self.size = size\n",
    "        self.cellid = cellid\n",
    "        self.cells = []\n",
    "        start = [0,0]\n",
    "        for j in range(ncells):\n",
    "            for i in range(ncells):\n",
    "                start = [0,0]\n",
    "                start[0] = i*size\n",
    "                start[1] = j*size\n",
    "                self.cells.append(cell(self.cellid,start,size))\n",
    "                self.cellid = self.cellid + 1\n",
    "\n",
    "    def resetPattern(self):\n",
    "        for i in self.cells:\n",
    "            i.pattern = \"\"\n",
    "                \n",
    "    def recognizeQR(self,im):\n",
    "        imTemp = im\n",
    "        grid.resetPattern()\n",
    "        decodedObjects = qr.decode(im)  \n",
    "        qr.draw(im, decodedObjects)\n",
    "        for i in decodedObjects:\n",
    "#             x = int((i.location[0][0]+i.location[1][0]+i.location[2][0]+i.location[3][0])/4)\n",
    "#             y = int((i.location[0][1]+i.location[1][1]+i.location[2][1]+i.location[3][1])/4)\n",
    "#             cv2.circle(im,(x,y),radio,(0,255,0))   \n",
    "            for j in self.cells:\n",
    "                if j.check(i.location):\n",
    "                    j.set_pattern(i.data.decode(\"utf-8\"))\n",
    "                    break\n",
    "        return im \n",
    "\n",
    "    def export_grid_UDP(self):\n",
    "        UDP_IP = \"localhost\"\n",
    "        UDP_PORT = 9877\n",
    "        message = []\n",
    "        for i in self.cells:\n",
    "            if i.pattern == \"Residential Large\":\n",
    "                message.append(0)\n",
    "            elif i.pattern == \"Residential Medium\":\n",
    "                message.append(1)\n",
    "            elif i.pattern == \"Residential Small\":\n",
    "                message.append(2)                \n",
    "            elif i.pattern == \"Office Medium\":\n",
    "                message.append(3)\n",
    "            elif i.pattern == \"Residential Medium\":\n",
    "                message.append(4)\n",
    "            elif i.pattern == \"Office Small\":\n",
    "                message.append(5)\n",
    "            else:\n",
    "                message.append(-1)\n",
    "        msg = \"grid:\"+str(message)      \n",
    "        sock = socket.socket(socket.AF_INET, socket.SOCK_DGRAM)\n",
    "        sock.sendto(msg.encode(), (UDP_IP, UDP_PORT))\n",
    "        return datetime.now()\n",
    "        \n",
    "    def draw(self, img):\n",
    "        for i in self.cells:\n",
    "            cv2.rectangle(img, (i.start[0],i.start[1]), (i.start[0]+i.size,i.start[1]+i.size),(255,0,0))\n",
    "    \n"
   ]
  },
  {
   "cell_type": "code",
   "execution_count": 14,
   "metadata": {
    "collapsed": true
   },
   "outputs": [],
   "source": [
    "def mouse_selecting(event, x, y, flags, params):\n",
    "    global moving\n",
    "    global selected\n",
    "    global poiSelected\n",
    "    if event == cv2.EVENT_LBUTTONDOWN:\n",
    "        moving = True\n",
    "        for i in range(len(pts1)):\n",
    "            dist = math.sqrt((x - pts1[i][0])**2 + (y - pts1[i][1])**2)\n",
    "            if dist < radio:\n",
    "                selected = True\n",
    "                poiSelected = i\n",
    "                break;\n",
    "    elif event == cv2.EVENT_LBUTTONUP:\n",
    "        for i in range(len(pts1)):\n",
    "            if(selected == True and poiSelected == i):\n",
    "                pts1[i][0] = x;\n",
    "                pts1[i][1] = y;\n",
    "                selected == False\n",
    "                poiSelected = None\n",
    "                break;"
   ]
  },
  {
   "cell_type": "code",
   "execution_count": 16,
   "metadata": {},
   "outputs": [
    {
     "ename": "KeyboardInterrupt",
     "evalue": "",
     "output_type": "error",
     "traceback": [
      "\u001b[0;31m---------------------------------------------------------------------------\u001b[0m",
      "\u001b[0;31mKeyboardInterrupt\u001b[0m                         Traceback (most recent call last)",
      "\u001b[0;32m<ipython-input-16-c4966bb11831>\u001b[0m in \u001b[0;36m<module>\u001b[0;34m()\u001b[0m\n\u001b[1;32m     10\u001b[0m         \u001b[0mcv2\u001b[0m\u001b[0;34m.\u001b[0m\u001b[0mnamedWindow\u001b[0m\u001b[0;34m(\u001b[0m\u001b[0;34m\"Original\"\u001b[0m\u001b[0;34m)\u001b[0m\u001b[0;34m\u001b[0m\u001b[0m\n\u001b[1;32m     11\u001b[0m         \u001b[0mcv2\u001b[0m\u001b[0;34m.\u001b[0m\u001b[0msetMouseCallback\u001b[0m\u001b[0;34m(\u001b[0m\u001b[0;34m\"Original\"\u001b[0m\u001b[0;34m,\u001b[0m \u001b[0mmouse_selecting\u001b[0m\u001b[0;34m)\u001b[0m\u001b[0;34m\u001b[0m\u001b[0m\n\u001b[0;32m---> 12\u001b[0;31m         \u001b[0mret\u001b[0m\u001b[0;34m,\u001b[0m \u001b[0mimg\u001b[0m \u001b[0;34m=\u001b[0m \u001b[0mcap\u001b[0m\u001b[0;34m.\u001b[0m\u001b[0mread\u001b[0m\u001b[0;34m(\u001b[0m\u001b[0;34m)\u001b[0m\u001b[0;34m\u001b[0m\u001b[0m\n\u001b[0m\u001b[1;32m     13\u001b[0m         \u001b[0mimg2\u001b[0m \u001b[0;34m=\u001b[0m \u001b[0mwarpP\u001b[0m\u001b[0;34m.\u001b[0m\u001b[0mwarpPerspective\u001b[0m\u001b[0;34m(\u001b[0m\u001b[0mpts1\u001b[0m\u001b[0;34m,\u001b[0m\u001b[0mpts2\u001b[0m\u001b[0;34m,\u001b[0m\u001b[0mimg\u001b[0m\u001b[0;34m,\u001b[0m\u001b[0msideLenght\u001b[0m\u001b[0;34m)\u001b[0m\u001b[0;34m\u001b[0m\u001b[0m\n\u001b[1;32m     14\u001b[0m         \u001b[0mim\u001b[0m \u001b[0;34m=\u001b[0m \u001b[0mgrid\u001b[0m\u001b[0;34m.\u001b[0m\u001b[0mrecognizeQR\u001b[0m\u001b[0;34m(\u001b[0m\u001b[0mimg2\u001b[0m\u001b[0;34m)\u001b[0m\u001b[0;34m\u001b[0m\u001b[0m\n",
      "\u001b[0;31mKeyboardInterrupt\u001b[0m: "
     ]
    }
   ],
   "source": [
    "# Main \n",
    "# keypress = cv2.waitKey(1)\n",
    "\n",
    "if __name__ == '__main__':\n",
    "    grid = mesh(cellid, nblocks, blockSize)\n",
    "    warpP = warpPerspective()\n",
    "    qr = QR()\n",
    "    cap = cv2.VideoCapture(0)\n",
    "    while True:\n",
    "        cv2.namedWindow(\"Original\")\n",
    "        cv2.setMouseCallback(\"Original\", mouse_selecting)\n",
    "        ret, img = cap.read()\n",
    "        img2 = warpP.warpPerspective(pts1,pts2,img,sideLenght)\n",
    "        im = grid.recognizeQR(img2)\n",
    "        grid.draw(img2) \n",
    "        warpP.drawPoints(pts1,img,radio) \n",
    "        \n",
    "        # Display results \n",
    "        cv2.imshow(\"Original\", img)\n",
    "        cv2.imshow(\"Results\", im)\n",
    "        \n",
    "        from_last_sent = datetime.now() - last_sent\n",
    "        if from_last_sent > send_interval:\n",
    "            last_sent = grid.export_grid_UDP()\n",
    "        \n",
    "        if cv2.waitKey(1) and 0xFF == ord('q'):\n",
    "            break\n",
    "    cap.release()\n",
    "    cv2.destroyAllWindows()"
   ]
  },
  {
   "cell_type": "code",
   "execution_count": null,
   "metadata": {
    "collapsed": true
   },
   "outputs": [],
   "source": []
  },
  {
   "cell_type": "code",
   "execution_count": null,
   "metadata": {
    "collapsed": true
   },
   "outputs": [],
   "source": []
  }
 ],
 "metadata": {
  "kernelspec": {
   "display_name": "Python 3",
   "language": "python",
   "name": "python3"
  },
  "language_info": {
   "codemirror_mode": {
    "name": "ipython",
    "version": 3
   },
   "file_extension": ".py",
   "mimetype": "text/x-python",
   "name": "python",
   "nbconvert_exporter": "python",
   "pygments_lexer": "ipython3",
   "version": "3.6.2"
  }
 },
 "nbformat": 4,
 "nbformat_minor": 2
}
